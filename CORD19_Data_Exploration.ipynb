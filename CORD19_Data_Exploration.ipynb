# 1. Import libraries
import pandas as pd
import matplotlib.pyplot as plt
from wordcloud import WordCloud
import seaborn as sns  # optional for prettier plots

# 2. Load metadata.csv (put the file in same folder or give full path)
df = pd.read_csv("metadata.csv")

# 3. Look at first few rows
df.head()

# 4. Basic info
print("Shape:", df.shape)
print(df.info())          # dtypes
print(df.isnull().sum())  # missing values per column

# 5. Basic stats for numeric columns
df.describe()

# 1. Identify columns with many missing values
missing_ratio = df.isnull().mean().sort_values(ascending=False)
print(missing_ratio.head(10))

# 2. Decide how to handle (example: drop rows missing title or publish_time)
df_clean = df.dropna(subset=['title','publish_time'])

# 3. Convert publish_time to datetime
df_clean['publish_time'] = pd.to_datetime(df_clean['publish_time'], errors='coerce')

# 4. Extract publication year
df_clean['year'] = df_clean['publish_time'].dt.year

# 5. Example new column: abstract word count
df_clean['abstract_word_count'] = df_clean['abstract'].fillna('').apply(lambda x: len(x.split()))
df_clean.head()

# 1. Papers by year
year_counts = df_clean['year'].value_counts().sort_index()
plt.figure(figsize=(10,5))
plt.bar(year_counts.index, year_counts.values)
plt.title('Publications by Year')
plt.xlabel('Year')
plt.ylabel('Number of Papers')
plt.show()

# 2. Top journals
top_journals = df_clean['journal'].value_counts().head(10)
plt.figure(figsize=(10,5))
sns.barplot(x=top_journals.values, y=top_journals.index, orient='h')
plt.title('Top Journals Publishing COVID-19 Research')
plt.xlabel('Number of Papers')
plt.ylabel('Journal')
plt.show()

# 3. Most frequent words in titles (simple word frequency)
from collections import Counter
import re

titles = ' '.join(df_clean['title'].dropna()).lower()
words = re.findall(r'\b[a-z]{3,}\b', titles)  # ignore 1-2 letter words
word_counts = Counter(words)
print(word_counts.most_common(20))

# 4. Word cloud
wordcloud = WordCloud(width=800, height=400, background_color='white').generate_from_frequencies(word_counts)
plt.figure(figsize=(15,7))
plt.imshow(wordcloud, interpolation='bilinear')
plt.axis('off')
plt.title('Most Frequent Words in Paper Titles')
plt.show()

# 5. Distribution of paper counts by source
source_counts = df_clean['source_x'].value_counts().head(10)
plt.figure(figsize=(10,5))
sns.barplot(x=source_counts.values, y=source_counts.index, orient='h')
plt.title('Distribution of Papers by Source')
plt.xlabel('Number of Papers')
plt.ylabel('Source')
plt.show()

